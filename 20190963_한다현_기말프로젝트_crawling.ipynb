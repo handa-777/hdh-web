{
 "cells": [
  {
   "cell_type": "code",
   "execution_count": 1,
   "metadata": {},
   "outputs": [],
   "source": [
    "from selenium import webdriver\n",
    "from bs4 import BeautifulSoup"
   ]
  },
  {
   "cell_type": "code",
   "execution_count": 6,
   "metadata": {
    "scrolled": false
   },
   "outputs": [],
   "source": [
    "driver = webdriver.Chrome('/Users/handa/Downloads/chromedriver')\n",
    "\n",
    "driver.get('https://finance.naver.com/sise/sise_market_sum.nhn?sosok=0')\n",
    "html = driver.page_source\n",
    "soup = BeautifulSoup(html,'html.parser')\n",
    "prices = soup.select('td.number')\n",
    "names = soup.select('a.tltle')\n",
    "\n",
    "driver.get('https://finance.naver.com/sise/sise_market_sum.nhn?sosok=1')\n",
    "html2 = driver.page_source\n",
    "soup2 = BeautifulSoup(html2, 'html.parser')\n",
    "prices2 = soup2.select('td.number')\n",
    "names2 = soup2.select('a.tltle')\n",
    "\n",
    "plst1 = []\n",
    "plst2 = []\n",
    "plst3 = []\n",
    "dlst1 = []\n",
    "dlst2 = []\n",
    "dlst3 = []\n",
    "\n",
    "for i in range(1,501):\n",
    "    if i%10 == 5:\n",
    "        plst1.append(prices[i-1].text)\n",
    "        dlst1.append(prices2[i-1].text)\n",
    "    elif i%10 == 1:\n",
    "        plst2.append(prices[i-1].text)\n",
    "        dlst2.append(prices2[i-1].text)\n",
    "\n",
    "for name in names:\n",
    "    plst3.append(name.text)\n",
    "\n",
    "for name2 in names2:\n",
    "    dlst3.append(name2.text)\n",
    "\n",
    "fp = open('test.txt','w', encoding = 'utf-8')\n",
    "fp2 = open('20200624kosd.txt','w',encoding = 'utf-8')\n",
    "\n",
    "for p in range(50):\n",
    "    fp.write(plst3[p]+': '+plst1[p]+' / '+plst2[p]+'\\n')\n",
    "    fp2.write(dlst3[p]+': '+dlst1[p]+' / '+dlst2[p]+'\\n')\n",
    "fp.close()\n",
    "fp2.close()"
   ]
  },
  {
   "cell_type": "code",
   "execution_count": null,
   "metadata": {},
   "outputs": [],
   "source": []
  },
  {
   "cell_type": "code",
   "execution_count": null,
   "metadata": {},
   "outputs": [],
   "source": []
  },
  {
   "cell_type": "code",
   "execution_count": null,
   "metadata": {},
   "outputs": [],
   "source": []
  },
  {
   "cell_type": "code",
   "execution_count": 7,
   "metadata": {},
   "outputs": [],
   "source": [
    "driver = webdriver.Chrome('/Users/handa/Downloads/chromedriver')\n",
    "driver.implicitly_wait(3)\n",
    "\n",
    "driver.get('https://www.corporateinformation.com/Top-100.aspx?topcase=b')\n",
    "html = driver.page_source\n",
    "soup = BeautifulSoup(html,'html.parser')\n",
    "prices = soup.select('td > span')\n",
    "names = soup.select('td > a')\n",
    "\n",
    "plist = []\n",
    "nlist = []\n",
    "\n",
    "for price in prices:\n",
    "    plist.append(price.text)\n",
    "for name in names:\n",
    "    nlist.append(name.text.strip())\n",
    "\n",
    "plist.pop(1)\n",
    "plist.pop(0)\n",
    "nlist.pop(0)\n",
    "\n",
    "for i in range(4):\n",
    "    nlist.pop()\n",
    "\n",
    "\n",
    "fp = open('test2.txt','w', encoding = 'utf-8')\n",
    "\n",
    "for p in range(100):\n",
    "    fp.write(nlist[p]+': '+plist[p]+'\\n')\n",
    "fp.close()"
   ]
  },
  {
   "cell_type": "code",
   "execution_count": null,
   "metadata": {},
   "outputs": [],
   "source": []
  },
  {
   "cell_type": "code",
   "execution_count": null,
   "metadata": {},
   "outputs": [],
   "source": []
  },
  {
   "cell_type": "code",
   "execution_count": null,
   "metadata": {},
   "outputs": [],
   "source": []
  }
 ],
 "metadata": {
  "kernelspec": {
   "display_name": "Python 3",
   "language": "python",
   "name": "python3"
  },
  "language_info": {
   "codemirror_mode": {
    "name": "ipython",
    "version": 3
   },
   "file_extension": ".py",
   "mimetype": "text/x-python",
   "name": "python",
   "nbconvert_exporter": "python",
   "pygments_lexer": "ipython3",
   "version": "3.7.6"
  }
 },
 "nbformat": 4,
 "nbformat_minor": 4
}
